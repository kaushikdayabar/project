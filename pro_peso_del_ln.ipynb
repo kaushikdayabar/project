{
 "cells": [
  {
   "cell_type": "code",
   "execution_count": 128,
   "metadata": {},
   "outputs": [],
   "source": [
    "import pandas_ods_reader as pds\n",
    "import sklearn as sk\n",
    "\n",
    "from sklearn.model_selection import train_test_split\n",
    "import scipy.stats as sc\n",
    "import statsmodels.api as sm\n",
    "import numpy as np"
   ]
  },
  {
   "cell_type": "code",
   "execution_count": 129,
   "metadata": {},
   "outputs": [],
   "source": [
    "df=pds.read_ods(\"dataset_monthly.ods\",1)"
   ]
  },
  {
   "cell_type": "code",
   "execution_count": 130,
   "metadata": {},
   "outputs": [
    {
     "name": "stdout",
     "output_type": "stream",
     "text": [
      "     date  usd/pound  usd/ton CLP_DATE   Exc_1 YUAN_DATE   Exc_2  usd/pound5  \\\n",
      "0  Dec 90     2.5470   5094.0   Dec 90  332.25    Dec 90  5.2352     2.54701   \n",
      "1  Jan 91     2.5506   5101.2   Jan 91  342.00    Jan 91  5.2352     2.55064   \n",
      "2  Feb 91     2.5327   5065.4   Feb 91  340.00    Feb 91  5.2352     2.53273   \n",
      "3  Mar 91     2.5027   5005.4   Mar 91  345.50    Mar 91  5.2352     2.50265   \n",
      "4  Apr 91     2.5220   5044.0   Apr 91  338.75    Apr 91  5.3036     2.52198   \n",
      "\n",
      "   usd/ton5  \n",
      "0   5094.02  \n",
      "1   5101.28  \n",
      "2   5065.46  \n",
      "3   5005.30  \n",
      "4   5043.96  \n"
     ]
    }
   ],
   "source": [
    "print(df.head())"
   ]
  },
  {
   "cell_type": "markdown",
   "metadata": {},
   "source": [
    "preparing independent variable"
   ]
  },
  {
   "cell_type": "code",
   "execution_count": 131,
   "metadata": {},
   "outputs": [
    {
     "name": "stdout",
     "output_type": "stream",
     "text": [
      "354\n"
     ]
    }
   ],
   "source": [
    "xn=list(df[\"Exc_1\"])[:-1]\n",
    "x1n=xn[:-1]            \n",
    "print(len(xn))\n",
    "x2n=xn[1:]             "
   ]
  },
  {
   "cell_type": "code",
   "execution_count": 132,
   "metadata": {},
   "outputs": [],
   "source": [
    "xl1n=list(np.log(x1n))\n",
    "xl2n=list(np.log(x2n))"
   ]
  },
  {
   "cell_type": "code",
   "execution_count": 133,
   "metadata": {},
   "outputs": [
    {
     "name": "stdout",
     "output_type": "stream",
     "text": [
      "353\n"
     ]
    }
   ],
   "source": [
    "xdl=[]\n",
    "lexl1n=len(xl1n)\n",
    "for i in range(lexl1n):\n",
    "    xdl.append(xl2n[i]-xl1n[i])\n",
    "print(len(xdl))    #del ln"
   ]
  },
  {
   "cell_type": "code",
   "execution_count": 134,
   "metadata": {},
   "outputs": [
    {
     "data": {
      "text/plain": [
       "352"
      ]
     },
     "execution_count": 134,
     "metadata": {},
     "output_type": "execute_result"
    }
   ],
   "source": [
    "x=[]\n",
    "for i in range(352):\n",
    "    x.append(xdl[i+1]+xdl[i])  #p[t-1]+p[t-2]\n",
    "len(x)    "
   ]
  },
  {
   "cell_type": "markdown",
   "metadata": {},
   "source": [
    "preparing dependent variable"
   ]
  },
  {
   "cell_type": "code",
   "execution_count": 135,
   "metadata": {},
   "outputs": [
    {
     "name": "stdout",
     "output_type": "stream",
     "text": [
      "353\n"
     ]
    }
   ],
   "source": [
    "yn=list(df[\"usd/ton5\"][2:])     #clp(t-1)+clp(t-2)\n",
    "yl=list(np.log(yn))\n",
    "leny=len(yn)\n",
    "print(leny)"
   ]
  },
  {
   "cell_type": "code",
   "execution_count": 136,
   "metadata": {},
   "outputs": [
    {
     "data": {
      "text/plain": [
       "352"
      ]
     },
     "execution_count": 136,
     "metadata": {},
     "output_type": "execute_result"
    }
   ],
   "source": [
    "yout,y=[],0\n",
    "rem={}\n",
    "leny=leny-1\n",
    "for i in range(leny):\n",
    "    y=yl[i+1]-yl[i]\n",
    "    yout.append(y)\n",
    "    rem[i]=[y,yl[i]]\n",
    "len(yout)"
   ]
  },
  {
   "cell_type": "code",
   "execution_count": 137,
   "metadata": {},
   "outputs": [],
   "source": [
    "xstd,ystd=sc.tstd(x,ddof=1),sc.tstd(yout,ddof=1)\n",
    "xm,ym=np.mean(x),np.mean(yout)\n",
    "\n",
    "x=sc.zscore(x,axis=0,ddof=2)\n",
    "y=sc.zscore(yout,axis=0,ddof=2)\n",
    "test_random=[i for i in range(352)]\n",
    "x=[round(i,3) for i in x]\n",
    "y=[round(i,3) for i in y]\n"
   ]
  },
  {
   "cell_type": "code",
   "execution_count": 138,
   "metadata": {},
   "outputs": [
    {
     "data": {
      "image/png": "[encoded data removed]",
      "text/plain": [
       "<Figure size 432x288 with 1 Axes>"
      ]
     },
     "metadata": {
      "needs_background": "light"
     },
     "output_type": "display_data"
    }
   ],
   "source": [
    "plt.plot(x,color=\"yellow\")\n",
    "plt.plot(y,color=\"blue\")\n",
    "plt.show()"
   ]
  },
  {
   "cell_type": "code",
   "execution_count": 139,
   "metadata": {},
   "outputs": [],
   "source": [
    "x_tr,x_te,y_tr,y_te=train_test_split(x,test_random,random_state=5,test_size=0.3)"
   ]
  },
  {
   "cell_type": "code",
   "execution_count": 140,
   "metadata": {},
   "outputs": [
    {
     "name": "stdout",
     "output_type": "stream",
     "text": [
      "246 246\n",
      "                                 OLS Regression Results                                \n",
      "=======================================================================================\n",
      "Dep. Variable:                      y   R-squared (uncentered):                   0.056\n",
      "Model:                            OLS   Adj. R-squared (uncentered):              0.053\n",
      "Method:                 Least Squares   F-statistic:                              14.67\n",
      "Date:                Sat, 01 Aug 2020   Prob (F-statistic):                    0.000163\n",
      "Time:                        19:11:06   Log-Likelihood:                         -321.51\n",
      "No. Observations:                 246   AIC:                                      645.0\n",
      "Df Residuals:                     245   BIC:                                      648.5\n",
      "Df Model:                           1                                                  \n",
      "Covariance Type:            nonrobust                                                  \n",
      "==============================================================================\n",
      "                 coef    std err          t      P>|t|      [0.025      0.975]\n",
      "------------------------------------------------------------------------------\n",
      "x1            -0.2187      0.057     -3.830      0.000      -0.331      -0.106\n",
      "==============================================================================\n",
      "Omnibus:                        1.792   Durbin-Watson:                   2.004\n",
      "Prob(Omnibus):                  0.408   Jarque-Bera (JB):                1.609\n",
      "Skew:                          -0.009   Prob(JB):                        0.447\n",
      "Kurtosis:                       3.396   Cond. No.                         1.00\n",
      "==============================================================================\n",
      "\n",
      "Warnings:\n",
      "[1] Standard Errors assume that the covariance matrix of the errors is correctly specified.\n"
     ]
    }
   ],
   "source": [
    "x_tr=np.array(x_tr)\n",
    "y_tr=np.array([y[i] for i in y_tr])\n",
    "print(len(x_tr),len(y_tr))\n",
    "model=sm.OLS(x_tr.reshape(-1,1),y_tr).fit()\n",
    "print(model.summary())"
   ]
  },
  {
   "cell_type": "code",
   "execution_count": 141,
   "metadata": {},
   "outputs": [],
   "source": [
    "pre=model.predict(x_te)\n",
    "pre=list(pre)"
   ]
  },
  {
   "cell_type": "code",
   "execution_count": 142,
   "metadata": {},
   "outputs": [],
   "source": [
    "#actual result\n",
    "y_test=[yout[i] for i in y_te]"
   ]
  },
  {
   "cell_type": "code",
   "execution_count": 119,
   "metadata": {},
   "outputs": [],
   "source": [
    "def z_inv(l):\n",
    "    r=[i*(ystd-2)+ym for i in l]\n",
    "    return r"
   ]
  },
  {
   "cell_type": "code",
   "execution_count": 120,
   "metadata": {},
   "outputs": [
    {
     "data": {
      "text/plain": [
       "106"
      ]
     },
     "execution_count": 120,
     "metadata": {},
     "output_type": "execute_result"
    }
   ],
   "source": [
    "pre_z_inv=z_inv(pre)\n",
    "len(pre_z_inv)"
   ]
  },
  {
   "cell_type": "markdown",
   "metadata": {},
   "source": [
    "del inverse"
   ]
  },
  {
   "cell_type": "code",
   "execution_count": 121,
   "metadata": {},
   "outputs": [],
   "source": [
    "def del_inv(l):\n",
    "    yn_1=[rem[i][1] for i in y_te]\n",
    "    ylog_predicted=[yn_1[i]+l[i] for i in range(106)]\n",
    "    return ylog_predicted"
   ]
  },
  {
   "cell_type": "code",
   "execution_count": 122,
   "metadata": {},
   "outputs": [],
   "source": [
    "pre_z_del_inv=del_inv(pre_z_inv)"
   ]
  },
  {
   "cell_type": "code",
   "execution_count": 123,
   "metadata": {},
   "outputs": [],
   "source": [
    "def log_inv(l):\n",
    "    r=[np.exp(i) for i in l]\n",
    "    return r"
   ]
  },
  {
   "cell_type": "code",
   "execution_count": 124,
   "metadata": {},
   "outputs": [],
   "source": [
    "act_pre=log_inv(pre_z_del_inv)"
   ]
  },
  {
   "cell_type": "code",
   "execution_count": 125,
   "metadata": {},
   "outputs": [
    {
     "data": {
      "text/plain": [
       "23818.29596379078"
      ]
     },
     "execution_count": 125,
     "metadata": {},
     "output_type": "execute_result"
    }
   ],
   "source": [
    "np.sqrt(sk.metrics.mean_squared_error(y_test,act_pre))"
   ]
  },
  {
   "cell_type": "code",
   "execution_count": 126,
   "metadata": {},
   "outputs": [
    {
     "data": {
      "text/plain": [
       "0.5394675655981916"
      ]
     },
     "execution_count": 126,
     "metadata": {},
     "output_type": "execute_result"
    }
   ],
   "source": [
    "sc.pearsonr(act_pre,x_te)[0]**2"
   ]
  },
  {
   "cell_type": "code",
   "execution_count": 127,
   "metadata": {},
   "outputs": [
    {
     "data": {
      "text/plain": [
       "0.056860301287183224"
      ]
     },
     "execution_count": 127,
     "metadata": {},
     "output_type": "execute_result"
    }
   ],
   "source": [
    "sc.pearsonr(y_tr,x_tr)[0]**2"
   ]
  },
  {
   "cell_type": "code",
   "execution_count": null,
   "metadata": {},
   "outputs": [],
   "source": []
  }
 ],
 "metadata": {
  "kernelspec": {
   "display_name": "Python 3",
   "language": "python",
   "name": "python3"
  },
  "language_info": {
   "codemirror_mode": {
    "name": "ipython",
    "version": 3
   },
   "file_extension": ".py",
   "mimetype": "text/x-python",
   "name": "python",
   "nbconvert_exporter": "python",
   "pygments_lexer": "ipython3",
   "version": "3.7.6"
  }
 },
 "nbformat": 4,
 "nbformat_minor": 4
}
