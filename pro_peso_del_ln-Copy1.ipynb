{
 "cells": [
  {
   "cell_type": "code",
   "execution_count": 1,
   "metadata": {},
   "outputs": [],
   "source": [
    "import pandas_ods_reader as pds\n",
    "import sklearn as sk\n",
    "import matplotlib.pyplot as plt\n",
    "from sklearn.model_selection import train_test_split\n",
    "import scipy.stats as sc\n",
    "import statsmodels.api as sm\n",
    "import numpy as np"
   ]
  },
  {
   "cell_type": "code",
   "execution_count": 2,
   "metadata": {},
   "outputs": [],
   "source": [
    "df=pds.read_ods(\"dataset1_part2.ods\",1)"
   ]
  },
  {
   "cell_type": "code",
   "execution_count": 3,
   "metadata": {},
   "outputs": [
    {
     "name": "stdout",
     "output_type": "stream",
     "text": [
      "          date    price    date_exc     pr1           D1       P1      date_y  \\\n",
      "0   29-03-2016  17370.0  29-03-2016  681.42   29-03-2016  17370.0  29-03-2016   \n",
      "1   30-03-2016  16970.0  30-03-2016  672.75   30-03-2016  16970.0  30-03-2016   \n",
      "2   31-03-2016  16875.0  31-03-2016  670.40   31-03-2016  16875.0  31-03-2016   \n",
      "3   01-04-2016  16800.0  01-04-2016  670.70   01-04-2016  16800.0  01-04-2016   \n",
      "4   04-04-2016  16700.0  04-04-2016  672.70   04-04-2016  16700.0  04-04-2016   \n",
      "\n",
      "      pr2           D2       P2  \n",
      "0  6.5066   29-03-2016  17370.0  \n",
      "1  6.4650   30-03-2016  16970.0  \n",
      "2  6.4490   31-03-2016  16875.0  \n",
      "3  6.4786   01-04-2016  16800.0  \n",
      "4  6.4786   04-04-2016  16700.0  \n"
     ]
    }
   ],
   "source": [
    "print(df.head())"
   ]
  },
  {
   "cell_type": "markdown",
   "metadata": {},
   "source": [
    "preparing independent variable"
   ]
  },
  {
   "cell_type": "code",
   "execution_count": 4,
   "metadata": {},
   "outputs": [
    {
     "name": "stdout",
     "output_type": "stream",
     "text": [
      "1128\n"
     ]
    }
   ],
   "source": [
    "xn=list(df[\"pr1\"])[:-1]\n",
    "x1n=xn[:-1]            \n",
    "print(len(xn))\n",
    "x2n=xn[1:]             "
   ]
  },
  {
   "cell_type": "code",
   "execution_count": 5,
   "metadata": {},
   "outputs": [],
   "source": [
    "xl1n=list(np.log(x1n))\n",
    "xl2n=list(np.log(x2n))"
   ]
  },
  {
   "cell_type": "code",
   "execution_count": 6,
   "metadata": {},
   "outputs": [
    {
     "name": "stdout",
     "output_type": "stream",
     "text": [
      "1127\n"
     ]
    }
   ],
   "source": [
    "xdl=[]\n",
    "lexl1n=len(xl1n)\n",
    "for i in range(lexl1n):\n",
    "    xdl.append(xl2n[i]-xl1n[i])\n",
    "print(len(xdl))    #del ln"
   ]
  },
  {
   "cell_type": "code",
   "execution_count": 7,
   "metadata": {},
   "outputs": [
    {
     "data": {
      "text/plain": [
       "1126"
      ]
     },
     "execution_count": 7,
     "metadata": {},
     "output_type": "execute_result"
    }
   ],
   "source": [
    "x=[]\n",
    "for i in range(1126):\n",
    "    x.append(xdl[i+1]+xdl[i])  #p[t-1]+p[t-2]\n",
    "len(x)    "
   ]
  },
  {
   "cell_type": "markdown",
   "metadata": {},
   "source": [
    "preparing dependent variable"
   ]
  },
  {
   "cell_type": "code",
   "execution_count": 8,
   "metadata": {},
   "outputs": [
    {
     "name": "stdout",
     "output_type": "stream",
     "text": [
      "1127\n"
     ]
    }
   ],
   "source": [
    "yn=list(df[\"P1\"][2:])     #clp(t-1)+clp(t-2)\n",
    "yl=list(np.log(yn))\n",
    "leny=len(yn)\n",
    "print(leny)"
   ]
  },
  {
   "cell_type": "code",
   "execution_count": 9,
   "metadata": {},
   "outputs": [
    {
     "data": {
      "text/plain": [
       "1126"
      ]
     },
     "execution_count": 9,
     "metadata": {},
     "output_type": "execute_result"
    }
   ],
   "source": [
    "yout,y=[],0\n",
    "rem={}\n",
    "leny=leny-1\n",
    "for i in range(leny):\n",
    "    y=yl[i+1]-yl[i]\n",
    "    yout.append(y)\n",
    "    rem[i]=[y,yl[i]]\n",
    "len(yout)"
   ]
  },
  {
   "cell_type": "code",
   "execution_count": 13,
   "metadata": {},
   "outputs": [],
   "source": [
    "xstd,ystd=sc.tstd(x,ddof=1),sc.tstd(yout,ddof=1)\n",
    "xm,ym=np.mean(x),np.mean(yout)\n",
    "\n",
    "x=sc.zscore(x,axis=0,ddof=2)\n",
    "y=sc.zscore(yout,axis=0,ddof=2)\n",
    "test_random=[i for i in range(1126)]\n",
    "x=[round(i,3) for i in x]\n",
    "y=[round(i,3) for i in y]\n"
   ]
  },
  {
   "cell_type": "code",
   "execution_count": 14,
   "metadata": {},
   "outputs": [
    {
     "data": {
      "image/png": "[encoded data removed]",
      "text/plain": [
       "<Figure size 432x288 with 1 Axes>"
      ]
     },
     "metadata": {
      "needs_background": "light"
     },
     "output_type": "display_data"
    }
   ],
   "source": [
    "plt.plot(x,color=\"yellow\")\n",
    "plt.plot(y,color=\"blue\")\n",
    "plt.show()"
   ]
  },
  {
   "cell_type": "code",
   "execution_count": 15,
   "metadata": {},
   "outputs": [],
   "source": [
    "x_tr,x_te,y_tr,y_te=train_test_split(x,test_random,random_state=5,test_size=0.3)"
   ]
  },
  {
   "cell_type": "code",
   "execution_count": 16,
   "metadata": {},
   "outputs": [
    {
     "name": "stdout",
     "output_type": "stream",
     "text": [
      "788 788\n",
      "                                 OLS Regression Results                                \n",
      "=======================================================================================\n",
      "Dep. Variable:                      y   R-squared (uncentered):                   0.009\n",
      "Model:                            OLS   Adj. R-squared (uncentered):              0.008\n",
      "Method:                 Least Squares   F-statistic:                              7.145\n",
      "Date:                Sat, 01 Aug 2020   Prob (F-statistic):                     0.00767\n",
      "Time:                        20:50:21   Log-Likelihood:                         -1131.3\n",
      "No. Observations:                 788   AIC:                                      2265.\n",
      "Df Residuals:                     787   BIC:                                      2269.\n",
      "Df Model:                           1                                                  \n",
      "Covariance Type:            nonrobust                                                  \n",
      "==============================================================================\n",
      "                 coef    std err          t      P>|t|      [0.025      0.975]\n",
      "------------------------------------------------------------------------------\n",
      "x1            -0.0974      0.036     -2.673      0.008      -0.169      -0.026\n",
      "==============================================================================\n",
      "Omnibus:                       41.061   Durbin-Watson:                   2.014\n",
      "Prob(Omnibus):                  0.000   Jarque-Bera (JB):              106.724\n",
      "Skew:                           0.230   Prob(JB):                     6.69e-24\n",
      "Kurtosis:                       4.743   Cond. No.                         1.00\n",
      "==============================================================================\n",
      "\n",
      "Warnings:\n",
      "[1] Standard Errors assume that the covariance matrix of the errors is correctly specified.\n"
     ]
    }
   ],
   "source": [
    "x_tr=np.array(x_tr)\n",
    "y_tr=np.array([y[i] for i in y_tr])\n",
    "print(len(x_tr),len(y_tr))\n",
    "model=sm.OLS(x_tr.reshape(-1,1),y_tr).fit()\n",
    "print(model.summary())"
   ]
  },
  {
   "cell_type": "code",
   "execution_count": 17,
   "metadata": {},
   "outputs": [],
   "source": [
    "pre=model.predict(x_te)\n",
    "pre=list(pre)"
   ]
  },
  {
   "cell_type": "code",
   "execution_count": 18,
   "metadata": {},
   "outputs": [],
   "source": [
    "#actual result\n",
    "y_test=[yout[i] for i in y_te]"
   ]
  },
  {
   "cell_type": "code",
   "execution_count": 19,
   "metadata": {},
   "outputs": [],
   "source": [
    "def z_inv(l):\n",
    "    r=[i*(ystd-2)+ym for i in l]\n",
    "    return r"
   ]
  },
  {
   "cell_type": "code",
   "execution_count": 20,
   "metadata": {},
   "outputs": [
    {
     "data": {
      "text/plain": [
       "338"
      ]
     },
     "execution_count": 20,
     "metadata": {},
     "output_type": "execute_result"
    }
   ],
   "source": [
    "pre_z_inv=z_inv(pre)\n",
    "len(pre_z_inv)"
   ]
  },
  {
   "cell_type": "markdown",
   "metadata": {},
   "source": [
    "del inverse"
   ]
  },
  {
   "cell_type": "code",
   "execution_count": 27,
   "metadata": {},
   "outputs": [],
   "source": [
    "def del_inv(l):\n",
    "    yn_1=[rem[i][1] for i in y_te]\n",
    "    ylog_predicted=[yn_1[i]+l[i] for i in range(338)]\n",
    "    return ylog_predicted"
   ]
  },
  {
   "cell_type": "code",
   "execution_count": 28,
   "metadata": {},
   "outputs": [],
   "source": [
    "pre_z_del_inv=del_inv(pre_z_inv)"
   ]
  },
  {
   "cell_type": "code",
   "execution_count": 29,
   "metadata": {},
   "outputs": [],
   "source": [
    "def log_inv(l):\n",
    "    r=[np.exp(i) for i in l]\n",
    "    return r"
   ]
  },
  {
   "cell_type": "code",
   "execution_count": 30,
   "metadata": {},
   "outputs": [],
   "source": [
    "act_pre=log_inv(pre_z_del_inv)"
   ]
  },
  {
   "cell_type": "code",
   "execution_count": 31,
   "metadata": {},
   "outputs": [
    {
     "data": {
      "text/plain": [
       "19589.814888641333"
      ]
     },
     "execution_count": 31,
     "metadata": {},
     "output_type": "execute_result"
    }
   ],
   "source": [
    "np.sqrt(sk.metrics.mean_squared_error(y_test,act_pre))"
   ]
  },
  {
   "cell_type": "code",
   "execution_count": 32,
   "metadata": {},
   "outputs": [
    {
     "data": {
      "text/plain": [
       "0.7800985644063014"
      ]
     },
     "execution_count": 32,
     "metadata": {},
     "output_type": "execute_result"
    }
   ],
   "source": [
    "sc.pearsonr(act_pre,x_te)[0]**2"
   ]
  },
  {
   "cell_type": "code",
   "execution_count": 33,
   "metadata": {},
   "outputs": [
    {
     "data": {
      "text/plain": [
       "0.008966528846264142"
      ]
     },
     "execution_count": 33,
     "metadata": {},
     "output_type": "execute_result"
    }
   ],
   "source": [
    "sc.pearsonr(y_tr,x_tr)[0]**2"
   ]
  },
  {
   "cell_type": "code",
   "execution_count": null,
   "metadata": {},
   "outputs": [],
   "source": []
  }
 ],
 "metadata": {
  "kernelspec": {
   "display_name": "Python 3",
   "language": "python",
   "name": "python3"
  },
  "language_info": {
   "codemirror_mode": {
    "name": "ipython",
    "version": 3
   },
   "file_extension": ".py",
   "mimetype": "text/x-python",
   "name": "python",
   "nbconvert_exporter": "python",
   "pygments_lexer": "ipython3",
   "version": "3.7.6"
  }
 },
 "nbformat": 4,
 "nbformat_minor": 4
}
